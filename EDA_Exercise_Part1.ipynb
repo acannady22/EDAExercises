{
 "cells": [
  {
   "cell_type": "code",
   "execution_count": 2,
   "id": "661289e4",
   "metadata": {},
   "outputs": [
    {
     "name": "stdout",
     "output_type": "stream",
     "text": [
      "Requirement already satisfied: pandas in ./opt/anaconda3/lib/python3.9/site-packages (1.4.2)\r\n",
      "Requirement already satisfied: python-dateutil>=2.8.1 in ./opt/anaconda3/lib/python3.9/site-packages (from pandas) (2.8.2)\r\n",
      "Requirement already satisfied: pytz>=2020.1 in ./opt/anaconda3/lib/python3.9/site-packages (from pandas) (2021.3)\r\n",
      "Requirement already satisfied: numpy>=1.18.5 in ./opt/anaconda3/lib/python3.9/site-packages (from pandas) (1.21.5)\r\n",
      "Requirement already satisfied: six>=1.5 in ./opt/anaconda3/lib/python3.9/site-packages (from python-dateutil>=2.8.1->pandas) (1.16.0)\r\n"
     ]
    }
   ],
   "source": [
    "# import the pandas library and use the alias 'pd'\n",
    "!pip install pandas\n",
    "\n",
    "import pandas as pd"
   ]
  },
  {
   "cell_type": "code",
   "execution_count": 3,
   "id": "32f6e275",
   "metadata": {},
   "outputs": [],
   "source": [
    "#create the s1 series from the list: [10,20,30,40,50]\n",
    "s1 = pd.Series([10,20,30,40,50])"
   ]
  },
  {
   "cell_type": "code",
   "execution_count": 4,
   "id": "373570c2",
   "metadata": {},
   "outputs": [],
   "source": [
    "# create a series called s_tuple from the tuple: (\"apple\", \"banana\", \"cherry\")\n",
    "s_tuple = pd.Series([\"apple\", \"banana\", \"cherry\"])\n"
   ]
  },
  {
   "cell_type": "code",
   "execution_count": 8,
   "id": "c0987ecf",
   "metadata": {},
   "outputs": [],
   "source": [
    "# create a series called s_dictionary from the dictionary: {\"brand\": \"Ford\", \"model\": \"Mustang\", \"year\": 1964}\n",
    "#s_dictionary = pd.Series({\"brand\" : \"Ford\", \"model\" : \"Mustang\", \"year\" : \"1964\"})"
   ]
  },
  {
   "cell_type": "code",
   "execution_count": 19,
   "id": "7fc4f9f1",
   "metadata": {},
   "outputs": [
    {
     "name": "stdout",
     "output_type": "stream",
     "text": [
      "The s1 series values are: [10 20 30 40 50]\n",
      "The s1 index values are: [0 1 2 3 4]\n",
      "\n",
      "\n",
      "The s_tuple series values are: ['apple' 'banana' 'cherry']\n",
      "The s_tuple index values are: [0 1 2]\n",
      "\n",
      "\n"
     ]
    }
   ],
   "source": [
    "# fill in the blank with the series values and index values\n",
    "print(\"The s1 series values are:\", s1.values)\n",
    "print(\"The s1 index values are:\", s1.index.values)\n",
    "print(\"\\n\")\n",
    "print(\"The s_tuple series values are:\", s_tuple.values)\n",
    "print(\"The s_tuple index values are:\", s_tuple.index.values)\n",
    "print(\"\\n\")\n",
    "#print(\"The s_dictionary series values are:\", s_dictionary.values)\n",
    "#print(\"The s_dictionary index values are:\", s_dictionary.index.values)"
   ]
  },
  {
   "cell_type": "code",
   "execution_count": 16,
   "id": "862957e0",
   "metadata": {},
   "outputs": [],
   "source": [
    "# create the s2 series from the list [80,93,78,85,97] and with labeled indexes ['English','Science','Social','Tamil','Maths']\n",
    "s2 = pd.Series([80,93,78,85,97], index = ['English','Science','Social','Tamil','Maths'])"
   ]
  },
  {
   "cell_type": "code",
   "execution_count": 17,
   "id": "5db80b5f",
   "metadata": {},
   "outputs": [
    {
     "name": "stdout",
     "output_type": "stream",
     "text": [
      "The Marks obtained by student are English    80\n",
      "Science    93\n",
      "Social     78\n",
      "Tamil      85\n",
      "Maths      97\n",
      "dtype: int64\n"
     ]
    }
   ],
   "source": [
    "# print the s2 series\n",
    "print(\"The Marks obtained by student are\", s2)"
   ]
  },
  {
   "cell_type": "code",
   "execution_count": 20,
   "id": "cfd64087",
   "metadata": {},
   "outputs": [],
   "source": [
    "# assign the s2 series name to be \"Student Marks\"\n",
    "s2.name = 'Student Marks'"
   ]
  },
  {
   "cell_type": "code",
   "execution_count": 21,
   "id": "fe25689e",
   "metadata": {},
   "outputs": [],
   "source": [
    "# assign the s2 index name to be \"Subject\"\n",
    "s2.index.name = 'Subject'"
   ]
  },
  {
   "cell_type": "code",
   "execution_count": 22,
   "id": "f5a1b04c",
   "metadata": {},
   "outputs": [
    {
     "name": "stdout",
     "output_type": "stream",
     "text": [
      "The Marks obtained by student - subjectwise:\n",
      " Subject\n",
      "English    80\n",
      "Science    93\n",
      "Social     78\n",
      "Tamil      85\n",
      "Maths      97\n",
      "Name: Student Marks, dtype: int64\n"
     ]
    }
   ],
   "source": [
    "# print the s2 series again to see the newly assigned name and index name\n",
    "print(\"The Marks obtained by student - subjectwise:\\n\", s2)"
   ]
  },
  {
   "cell_type": "code",
   "execution_count": 23,
   "id": "de8b2409",
   "metadata": {},
   "outputs": [
    {
     "data": {
      "text/plain": [
       "80"
      ]
     },
     "execution_count": 23,
     "metadata": {},
     "output_type": "execute_result"
    }
   ],
   "source": [
    "# return the first element in the s2 series\n",
    "s2[0]"
   ]
  },
  {
   "cell_type": "code",
   "execution_count": 25,
   "id": "149aa01d",
   "metadata": {},
   "outputs": [
    {
     "data": {
      "text/plain": [
       "Subject\n",
       "English    80\n",
       "Science    93\n",
       "Social     78\n",
       "Tamil      85\n",
       "Maths      97\n",
       "Name: Student Marks, dtype: int64"
      ]
     },
     "execution_count": 25,
     "metadata": {},
     "output_type": "execute_result"
    }
   ],
   "source": [
    "# slicing using default integer index\n",
    "s2[0:5]"
   ]
  },
  {
   "cell_type": "code",
   "execution_count": 27,
   "id": "75c6f5bd",
   "metadata": {},
   "outputs": [
    {
     "data": {
      "text/plain": [
       "Subject\n",
       "Science    93\n",
       "Social     78\n",
       "Tamil      85\n",
       "Name: Student Marks, dtype: int64"
      ]
     },
     "execution_count": 27,
     "metadata": {},
     "output_type": "execute_result"
    }
   ],
   "source": [
    "# return the elements starting at position one and ending with the element at index 3\n",
    "s2[1:4]"
   ]
  },
  {
   "cell_type": "code",
   "execution_count": 28,
   "id": "5da081a2",
   "metadata": {},
   "outputs": [
    {
     "data": {
      "text/plain": [
       "85"
      ]
     },
     "execution_count": 28,
     "metadata": {},
     "output_type": "execute_result"
    }
   ],
   "source": [
    "# Slicing using string index\n",
    "# return the element associated with the index 'Tamil'\n",
    "s2['Tamil']"
   ]
  },
  {
   "cell_type": "code",
   "execution_count": 32,
   "id": "336882e6",
   "metadata": {},
   "outputs": [],
   "source": [
    "# create a dictionary of fruit names and their prices. Use the values from the article\n",
    "dict_fruits = {'Orange':80,\n",
    "          'Apples':210,\n",
    "          'Bananas':50,\n",
    "         'Grapes':90,\n",
    "         'Watermelon':70}"
   ]
  },
  {
   "cell_type": "code",
   "execution_count": 33,
   "id": "725e085c",
   "metadata": {},
   "outputs": [],
   "source": [
    "# Lets convert this dictionary into a series\n",
    "fruits = pd.Series(dict_fruits)"
   ]
  },
  {
   "cell_type": "code",
   "execution_count": 34,
   "id": "7b56c094",
   "metadata": {},
   "outputs": [
    {
     "name": "stdout",
     "output_type": "stream",
     "text": [
      "Fruits and prices\n",
      " Orange         80\n",
      "Apples        210\n",
      "Bananas        50\n",
      "Grapes         90\n",
      "Watermelon     70\n",
      "dtype: int64\n"
     ]
    }
   ],
   "source": [
    "# print the series\n",
    "print(\"Fruits and prices\\n\", fruits)"
   ]
  },
  {
   "cell_type": "code",
   "execution_count": 35,
   "id": "45b78b38",
   "metadata": {},
   "outputs": [
    {
     "name": "stdout",
     "output_type": "stream",
     "text": [
      "The price per kg of grapes is: 90\n"
     ]
    }
   ],
   "source": [
    "# Slice the series and retrieve price of grapes\n",
    "print(\"The price per kg of grapes is:\", fruits['Grapes'])"
   ]
  },
  {
   "cell_type": "code",
   "execution_count": 36,
   "id": "69100fca",
   "metadata": {},
   "outputs": [],
   "source": [
    "# create a dataframe from the s2 series\n",
    "df_marks = pd.DataFrame(s2, columns=['Student1'])"
   ]
  },
  {
   "cell_type": "code",
   "execution_count": 37,
   "id": "0196bb73",
   "metadata": {},
   "outputs": [
    {
     "name": "stdout",
     "output_type": "stream",
     "text": [
      "The dataframe created from series is\n",
      " Empty DataFrame\n",
      "Columns: [Student1]\n",
      "Index: []\n"
     ]
    }
   ],
   "source": [
    "# print the dataframe\n",
    "print(\"The dataframe created from series is\\n\",df_marks)"
   ]
  },
  {
   "cell_type": "code",
   "execution_count": 38,
   "id": "94ba4074",
   "metadata": {},
   "outputs": [],
   "source": [
    "# Create height series using [5.3, 6.2,5.8,5.0,5.5] for values, ['Person 1','Person 2','Person 3','Person 4','Person 5'] for indexes\n",
    "height = pd.Series([5.3, 6.2,5.8,5.0,5.5], index=['Person 1','Person 2','Person 3','Person 4','Person 5'])"
   ]
  },
  {
   "cell_type": "code",
   "execution_count": 39,
   "id": "84d3b0b0",
   "metadata": {},
   "outputs": [],
   "source": [
    "# Create weight series (in kgs) using [65,89,75,60,59] for values and the same indexes as height\n",
    "weight = pd.Series([65,89,75,60,59], index = ['Person 1','Person 2','Person 3','Person 4','Person 5'])"
   ]
  },
  {
   "cell_type": "code",
   "execution_count": 40,
   "id": "b2dcef3d",
   "metadata": {},
   "outputs": [],
   "source": [
    "# Create a dataframe from the height and weight series above\n",
    "df_person = pd.DataFrame({'height': height, 'weight': weight})"
   ]
  },
  {
   "cell_type": "code",
   "execution_count": 41,
   "id": "b00a136f",
   "metadata": {},
   "outputs": [
    {
     "name": "stdout",
     "output_type": "stream",
     "text": [
      "The Person table details are:\n",
      "           height  weight\n",
      "Person 1     5.3      65\n",
      "Person 2     6.2      89\n",
      "Person 3     5.8      75\n",
      "Person 4     5.0      60\n",
      "Person 5     5.5      59\n"
     ]
    }
   ],
   "source": [
    "# print the dataframe\n",
    "print(\"The Person table details are:\\n\", df_person)"
   ]
  },
  {
   "cell_type": "code",
   "execution_count": null,
   "id": "1648e765",
   "metadata": {},
   "outputs": [],
   "source": []
  }
 ],
 "metadata": {
  "kernelspec": {
   "display_name": "Python 3 (ipykernel)",
   "language": "python",
   "name": "python3"
  },
  "language_info": {
   "codemirror_mode": {
    "name": "ipython",
    "version": 3
   },
   "file_extension": ".py",
   "mimetype": "text/x-python",
   "name": "python",
   "nbconvert_exporter": "python",
   "pygments_lexer": "ipython3",
   "version": "3.9.12"
  }
 },
 "nbformat": 4,
 "nbformat_minor": 5
}
